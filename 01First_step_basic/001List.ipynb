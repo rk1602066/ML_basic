{
  "nbformat": 4,
  "nbformat_minor": 0,
  "metadata": {
    "colab": {
      "name": "Untitled1.ipynb",
      "provenance": []
    },
    "kernelspec": {
      "name": "python3",
      "display_name": "Python 3"
    }
  },
  "cells": [
    {
      "cell_type": "code",
      "metadata": {
        "id": "8aUgJBdfMbmr"
      },
      "source": [
        ""
      ],
      "execution_count": null,
      "outputs": []
    },
    {
      "cell_type": "markdown",
      "metadata": {
        "id": "hy6hFuJAMdMc"
      },
      "source": [
        "#list"
      ]
    },
    {
      "cell_type": "code",
      "metadata": {
        "id": "ztdjnKtSMfB-",
        "outputId": "0401ae63-d75c-454b-99d1-4c483cc7a9be",
        "colab": {
          "base_uri": "https://localhost:8080/"
        }
      },
      "source": [
        "lst=[1,2,3,4,5,6,7,'a','sdffsdfd']\n",
        "len(lst)"
      ],
      "execution_count": 1,
      "outputs": [
        {
          "output_type": "execute_result",
          "data": {
            "text/plain": [
              "9"
            ]
          },
          "metadata": {
            "tags": []
          },
          "execution_count": 1
        }
      ]
    },
    {
      "cell_type": "code",
      "metadata": {
        "id": "i4G3ljGCMoy2",
        "outputId": "6eea7175-304c-482c-e9c0-8cf243f565c4",
        "colab": {
          "base_uri": "https://localhost:8080/"
        }
      },
      "source": [
        "lst = list()\n",
        "type(lst)"
      ],
      "execution_count": 2,
      "outputs": [
        {
          "output_type": "execute_result",
          "data": {
            "text/plain": [
              "list"
            ]
          },
          "metadata": {
            "tags": []
          },
          "execution_count": 2
        }
      ]
    },
    {
      "cell_type": "code",
      "metadata": {
        "id": "3G_RrAJpMvkq",
        "outputId": "dbacc0d2-fe16-4fd7-ca57-a55efa4a4c1f",
        "colab": {
          "base_uri": "https://localhost:8080/"
        }
      },
      "source": [
        "lst.append('Rakib')\n",
        "print(lst)"
      ],
      "execution_count": 3,
      "outputs": [
        {
          "output_type": "stream",
          "text": [
            "['Rakib']\n"
          ],
          "name": "stdout"
        }
      ]
    },
    {
      "cell_type": "code",
      "metadata": {
        "id": "axOPn9xfM5IX",
        "outputId": "c7b2fcac-e433-4b01-e1d0-4cdbef9fccda",
        "colab": {
          "base_uri": "https://localhost:8080/"
        }
      },
      "source": [
        "lst.insert(1,420)\n",
        "lst"
      ],
      "execution_count": 6,
      "outputs": [
        {
          "output_type": "execute_result",
          "data": {
            "text/plain": [
              "['Rakib', 420]"
            ]
          },
          "metadata": {
            "tags": []
          },
          "execution_count": 6
        }
      ]
    },
    {
      "cell_type": "code",
      "metadata": {
        "id": "VR45dBQMNBd1"
      },
      "source": [
        ""
      ],
      "execution_count": null,
      "outputs": []
    },
    {
      "cell_type": "markdown",
      "metadata": {
        "id": "xTtpRIM4NQDU"
      },
      "source": [
        "#append and insert"
      ]
    },
    {
      "cell_type": "code",
      "metadata": {
        "id": "4-oPiEezNSlP",
        "outputId": "2389ca59-df77-4f62-9115-6376cc5f36d7",
        "colab": {
          "base_uri": "https://localhost:8080/"
        }
      },
      "source": [
        "lst.append(['Rakib',1602066])\n",
        "lst"
      ],
      "execution_count": 7,
      "outputs": [
        {
          "output_type": "execute_result",
          "data": {
            "text/plain": [
              "['Rakib', 420, ['Rakib', 1602066]]"
            ]
          },
          "metadata": {
            "tags": []
          },
          "execution_count": 7
        }
      ]
    },
    {
      "cell_type": "code",
      "metadata": {
        "id": "WeGier9hNb8t",
        "outputId": "5a1b555b-448c-46e4-b36a-18c4c44449a2",
        "colab": {
          "base_uri": "https://localhost:8080/"
        }
      },
      "source": [
        "lst[1:]"
      ],
      "execution_count": 9,
      "outputs": [
        {
          "output_type": "execute_result",
          "data": {
            "text/plain": [
              "[420, ['Rakib', 1602066]]"
            ]
          },
          "metadata": {
            "tags": []
          },
          "execution_count": 9
        }
      ]
    },
    {
      "cell_type": "code",
      "metadata": {
        "id": "KXM4WjAMNouQ",
        "outputId": "501882b7-1bf4-46a4-bf9c-8a5816d3d70c",
        "colab": {
          "base_uri": "https://localhost:8080/"
        }
      },
      "source": [
        "lst.insert(2,'sk')\n",
        "lst"
      ],
      "execution_count": 10,
      "outputs": [
        {
          "output_type": "execute_result",
          "data": {
            "text/plain": [
              "['Rakib', 420, 'sk', ['Rakib', 1602066]]"
            ]
          },
          "metadata": {
            "tags": []
          },
          "execution_count": 10
        }
      ]
    },
    {
      "cell_type": "markdown",
      "metadata": {
        "id": "MP5NbxOYNz0s"
      },
      "source": [
        "#extend"
      ]
    },
    {
      "cell_type": "code",
      "metadata": {
        "id": "qiFQZ9FAN1X8",
        "outputId": "42d8ccd7-915d-4b7b-c258-bac23647f3d7",
        "colab": {
          "base_uri": "https://localhost:8080/"
        }
      },
      "source": [
        "lst2=[1,2,3,4,5]\n",
        "lst2.extend([7,8])\n",
        "lst2"
      ],
      "execution_count": 23,
      "outputs": [
        {
          "output_type": "execute_result",
          "data": {
            "text/plain": [
              "[1, 2, 3, 4, 5, 7, 8]"
            ]
          },
          "metadata": {
            "tags": []
          },
          "execution_count": 23
        }
      ]
    },
    {
      "cell_type": "markdown",
      "metadata": {
        "id": "fxgVdJP_OFT8"
      },
      "source": [
        "#pop"
      ]
    },
    {
      "cell_type": "code",
      "metadata": {
        "id": "K3zU7fbVOGjs",
        "outputId": "d0c00228-b254-459a-f26d-fc1c5a1f23a5",
        "colab": {
          "base_uri": "https://localhost:8080/"
        }
      },
      "source": [
        "\n",
        "lst2.pop()\n",
        "\n",
        "lst2\n"
      ],
      "execution_count": 19,
      "outputs": [
        {
          "output_type": "execute_result",
          "data": {
            "text/plain": [
              "[1, 2, 3, 4, 5, 7]"
            ]
          },
          "metadata": {
            "tags": []
          },
          "execution_count": 19
        }
      ]
    },
    {
      "cell_type": "code",
      "metadata": {
        "id": "zy412ux7OZBe",
        "outputId": "caffd9f1-64d4-40ef-cd59-d533657bf37b",
        "colab": {
          "base_uri": "https://localhost:8080/"
        }
      },
      "source": [
        "lst2.pop(3)\n",
        "\n",
        "lst2"
      ],
      "execution_count": 24,
      "outputs": [
        {
          "output_type": "execute_result",
          "data": {
            "text/plain": [
              "[1, 2, 3, 5, 7, 8]"
            ]
          },
          "metadata": {
            "tags": []
          },
          "execution_count": 24
        }
      ]
    },
    {
      "cell_type": "markdown",
      "metadata": {
        "id": "kGymOp0VOmrK"
      },
      "source": [
        "#count()"
      ]
    },
    {
      "cell_type": "code",
      "metadata": {
        "id": "JZTH62qhOoua",
        "outputId": "20483dc1-32a0-404f-85ed-fc75eda80b38",
        "colab": {
          "base_uri": "https://localhost:8080/"
        }
      },
      "source": [
        "lst = [1, 2, 2, 3, 4, 1, 5, 7]\n",
        "lst.count(1)"
      ],
      "execution_count": 33,
      "outputs": [
        {
          "output_type": "execute_result",
          "data": {
            "text/plain": [
              "2"
            ]
          },
          "metadata": {
            "tags": []
          },
          "execution_count": 33
        }
      ]
    },
    {
      "cell_type": "markdown",
      "metadata": {
        "id": "NOKKfRBoO7-P"
      },
      "source": [
        "#index"
      ]
    },
    {
      "cell_type": "code",
      "metadata": {
        "id": "jifu4c1kO9Yc",
        "outputId": "7f62bcb8-7277-413a-c5ac-ee5c6712f2e7",
        "colab": {
          "base_uri": "https://localhost:8080/"
        }
      },
      "source": [
        "lst.index(2,0,5)"
      ],
      "execution_count": 34,
      "outputs": [
        {
          "output_type": "execute_result",
          "data": {
            "text/plain": [
              "1"
            ]
          },
          "metadata": {
            "tags": []
          },
          "execution_count": 34
        }
      ]
    },
    {
      "cell_type": "markdown",
      "metadata": {
        "id": "XJjccnXeQLbT"
      },
      "source": [
        "#min(),max()"
      ]
    },
    {
      "cell_type": "code",
      "metadata": {
        "id": "LGQdsifCQOzN",
        "outputId": "2b301826-464f-469b-c248-208ac265987e",
        "colab": {
          "base_uri": "https://localhost:8080/"
        }
      },
      "source": [
        "print(min(lst))\n",
        "print(max(lst))"
      ],
      "execution_count": 35,
      "outputs": [
        {
          "output_type": "stream",
          "text": [
            "1\n",
            "7\n"
          ],
          "name": "stdout"
        }
      ]
    },
    {
      "cell_type": "markdown",
      "metadata": {
        "id": "QRC_adXEQfQY"
      },
      "source": [
        "#operation on list"
      ]
    },
    {
      "cell_type": "code",
      "metadata": {
        "id": "Oa4feCfWQhtj",
        "outputId": "b8ed30ee-5f18-415e-f37f-36523ac57273",
        "colab": {
          "base_uri": "https://localhost:8080/"
        }
      },
      "source": [
        "lst*2"
      ],
      "execution_count": 37,
      "outputs": [
        {
          "output_type": "execute_result",
          "data": {
            "text/plain": [
              "[1, 2, 2, 3, 4, 1, 5, 7, 1, 2, 2, 3, 4, 1, 5, 7]"
            ]
          },
          "metadata": {
            "tags": []
          },
          "execution_count": 37
        }
      ]
    },
    {
      "cell_type": "code",
      "metadata": {
        "id": "fQcJ5bYCRM7k",
        "outputId": "1da927e7-42e4-4e08-f3f9-1c35c6b7b845",
        "colab": {
          "base_uri": "https://localhost:8080/"
        }
      },
      "source": [
        "lst*5"
      ],
      "execution_count": 38,
      "outputs": [
        {
          "output_type": "execute_result",
          "data": {
            "text/plain": [
              "[1,\n",
              " 2,\n",
              " 2,\n",
              " 3,\n",
              " 4,\n",
              " 1,\n",
              " 5,\n",
              " 7,\n",
              " 1,\n",
              " 2,\n",
              " 2,\n",
              " 3,\n",
              " 4,\n",
              " 1,\n",
              " 5,\n",
              " 7,\n",
              " 1,\n",
              " 2,\n",
              " 2,\n",
              " 3,\n",
              " 4,\n",
              " 1,\n",
              " 5,\n",
              " 7,\n",
              " 1,\n",
              " 2,\n",
              " 2,\n",
              " 3,\n",
              " 4,\n",
              " 1,\n",
              " 5,\n",
              " 7,\n",
              " 1,\n",
              " 2,\n",
              " 2,\n",
              " 3,\n",
              " 4,\n",
              " 1,\n",
              " 5,\n",
              " 7]"
            ]
          },
          "metadata": {
            "tags": []
          },
          "execution_count": 38
        }
      ]
    }
  ]
}