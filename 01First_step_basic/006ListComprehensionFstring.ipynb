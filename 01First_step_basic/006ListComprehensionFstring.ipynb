{
  "nbformat": 4,
  "nbformat_minor": 0,
  "metadata": {
    "colab": {
      "name": "Untitled7.ipynb",
      "provenance": []
    },
    "kernelspec": {
      "name": "python3",
      "display_name": "Python 3"
    }
  },
  "cells": [
    {
      "cell_type": "code",
      "metadata": {
        "id": "tteP0o64iWCI"
      },
      "source": [
        ""
      ],
      "execution_count": null,
      "outputs": []
    },
    {
      "cell_type": "markdown",
      "metadata": {
        "id": "pDx1s_tAiXzI"
      },
      "source": [
        "#List comprehension"
      ]
    },
    {
      "cell_type": "code",
      "metadata": {
        "id": "HJvmzyVFibdx",
        "outputId": "9f225537-e872-4565-fa1e-087d3121255a",
        "colab": {
          "base_uri": "https://localhost:8080/"
        }
      },
      "source": [
        "lst = []\n",
        "for i in range(1,11):\n",
        "  lst.append(i*i)\n",
        "lst  "
      ],
      "execution_count": 3,
      "outputs": [
        {
          "output_type": "execute_result",
          "data": {
            "text/plain": [
              "[1, 4, 9, 16, 25, 36, 49, 64, 81, 100]"
            ]
          },
          "metadata": {
            "tags": []
          },
          "execution_count": 3
        }
      ]
    },
    {
      "cell_type": "code",
      "metadata": {
        "id": "_WAJJyPeiwU4",
        "outputId": "d03d6d51-6716-472e-c331-3728e385c16a",
        "colab": {
          "base_uri": "https://localhost:8080/"
        }
      },
      "source": [
        "lst = [i*i for i in range(1,11)]\n",
        "lst"
      ],
      "execution_count": 4,
      "outputs": [
        {
          "output_type": "execute_result",
          "data": {
            "text/plain": [
              "[1, 4, 9, 16, 25, 36, 49, 64, 81, 100]"
            ]
          },
          "metadata": {
            "tags": []
          },
          "execution_count": 4
        }
      ]
    },
    {
      "cell_type": "code",
      "metadata": {
        "id": "I26nTqxhi8Wd",
        "outputId": "a9459e31-aa9c-4803-f70c-1657df57bdde",
        "colab": {
          "base_uri": "https://localhost:8080/"
        }
      },
      "source": [
        "lst = [i*i for i in range(1,11) if i%2!=0]\n",
        "lst"
      ],
      "execution_count": 5,
      "outputs": [
        {
          "output_type": "execute_result",
          "data": {
            "text/plain": [
              "[1, 9, 25, 49, 81]"
            ]
          },
          "metadata": {
            "tags": []
          },
          "execution_count": 5
        }
      ]
    },
    {
      "cell_type": "code",
      "metadata": {
        "id": "dqyHhJvcjDBd",
        "outputId": "7affb7bf-ef5b-4873-d566-b299c07d95e7",
        "colab": {
          "base_uri": "https://localhost:8080/"
        }
      },
      "source": [
        "lst = [[i for i in range(1,11) ] for j in range(1,11)]\n",
        "lst"
      ],
      "execution_count": 23,
      "outputs": [
        {
          "output_type": "execute_result",
          "data": {
            "text/plain": [
              "[[1, 2, 3, 4, 5, 6, 7, 8, 9, 10],\n",
              " [1, 2, 3, 4, 5, 6, 7, 8, 9, 10],\n",
              " [1, 2, 3, 4, 5, 6, 7, 8, 9, 10],\n",
              " [1, 2, 3, 4, 5, 6, 7, 8, 9, 10],\n",
              " [1, 2, 3, 4, 5, 6, 7, 8, 9, 10],\n",
              " [1, 2, 3, 4, 5, 6, 7, 8, 9, 10],\n",
              " [1, 2, 3, 4, 5, 6, 7, 8, 9, 10],\n",
              " [1, 2, 3, 4, 5, 6, 7, 8, 9, 10],\n",
              " [1, 2, 3, 4, 5, 6, 7, 8, 9, 10],\n",
              " [1, 2, 3, 4, 5, 6, 7, 8, 9, 10]]"
            ]
          },
          "metadata": {
            "tags": []
          },
          "execution_count": 23
        }
      ]
    },
    {
      "cell_type": "code",
      "metadata": {
        "id": "EbqDHVyLlSxa",
        "outputId": "10c603fe-0e79-4b83-c834-c409ef233449",
        "colab": {
          "base_uri": "https://localhost:8080/"
        }
      },
      "source": [
        "lst = [[\"this is i:{} of j:{}\".format(i,j) for i in range(1,11) ] for j in range(1,11)]\n",
        "lst"
      ],
      "execution_count": 24,
      "outputs": [
        {
          "output_type": "execute_result",
          "data": {
            "text/plain": [
              "[['this is i:1 of j:1',\n",
              "  'this is i:2 of j:1',\n",
              "  'this is i:3 of j:1',\n",
              "  'this is i:4 of j:1',\n",
              "  'this is i:5 of j:1',\n",
              "  'this is i:6 of j:1',\n",
              "  'this is i:7 of j:1',\n",
              "  'this is i:8 of j:1',\n",
              "  'this is i:9 of j:1',\n",
              "  'this is i:10 of j:1'],\n",
              " ['this is i:1 of j:2',\n",
              "  'this is i:2 of j:2',\n",
              "  'this is i:3 of j:2',\n",
              "  'this is i:4 of j:2',\n",
              "  'this is i:5 of j:2',\n",
              "  'this is i:6 of j:2',\n",
              "  'this is i:7 of j:2',\n",
              "  'this is i:8 of j:2',\n",
              "  'this is i:9 of j:2',\n",
              "  'this is i:10 of j:2'],\n",
              " ['this is i:1 of j:3',\n",
              "  'this is i:2 of j:3',\n",
              "  'this is i:3 of j:3',\n",
              "  'this is i:4 of j:3',\n",
              "  'this is i:5 of j:3',\n",
              "  'this is i:6 of j:3',\n",
              "  'this is i:7 of j:3',\n",
              "  'this is i:8 of j:3',\n",
              "  'this is i:9 of j:3',\n",
              "  'this is i:10 of j:3'],\n",
              " ['this is i:1 of j:4',\n",
              "  'this is i:2 of j:4',\n",
              "  'this is i:3 of j:4',\n",
              "  'this is i:4 of j:4',\n",
              "  'this is i:5 of j:4',\n",
              "  'this is i:6 of j:4',\n",
              "  'this is i:7 of j:4',\n",
              "  'this is i:8 of j:4',\n",
              "  'this is i:9 of j:4',\n",
              "  'this is i:10 of j:4'],\n",
              " ['this is i:1 of j:5',\n",
              "  'this is i:2 of j:5',\n",
              "  'this is i:3 of j:5',\n",
              "  'this is i:4 of j:5',\n",
              "  'this is i:5 of j:5',\n",
              "  'this is i:6 of j:5',\n",
              "  'this is i:7 of j:5',\n",
              "  'this is i:8 of j:5',\n",
              "  'this is i:9 of j:5',\n",
              "  'this is i:10 of j:5'],\n",
              " ['this is i:1 of j:6',\n",
              "  'this is i:2 of j:6',\n",
              "  'this is i:3 of j:6',\n",
              "  'this is i:4 of j:6',\n",
              "  'this is i:5 of j:6',\n",
              "  'this is i:6 of j:6',\n",
              "  'this is i:7 of j:6',\n",
              "  'this is i:8 of j:6',\n",
              "  'this is i:9 of j:6',\n",
              "  'this is i:10 of j:6'],\n",
              " ['this is i:1 of j:7',\n",
              "  'this is i:2 of j:7',\n",
              "  'this is i:3 of j:7',\n",
              "  'this is i:4 of j:7',\n",
              "  'this is i:5 of j:7',\n",
              "  'this is i:6 of j:7',\n",
              "  'this is i:7 of j:7',\n",
              "  'this is i:8 of j:7',\n",
              "  'this is i:9 of j:7',\n",
              "  'this is i:10 of j:7'],\n",
              " ['this is i:1 of j:8',\n",
              "  'this is i:2 of j:8',\n",
              "  'this is i:3 of j:8',\n",
              "  'this is i:4 of j:8',\n",
              "  'this is i:5 of j:8',\n",
              "  'this is i:6 of j:8',\n",
              "  'this is i:7 of j:8',\n",
              "  'this is i:8 of j:8',\n",
              "  'this is i:9 of j:8',\n",
              "  'this is i:10 of j:8'],\n",
              " ['this is i:1 of j:9',\n",
              "  'this is i:2 of j:9',\n",
              "  'this is i:3 of j:9',\n",
              "  'this is i:4 of j:9',\n",
              "  'this is i:5 of j:9',\n",
              "  'this is i:6 of j:9',\n",
              "  'this is i:7 of j:9',\n",
              "  'this is i:8 of j:9',\n",
              "  'this is i:9 of j:9',\n",
              "  'this is i:10 of j:9'],\n",
              " ['this is i:1 of j:10',\n",
              "  'this is i:2 of j:10',\n",
              "  'this is i:3 of j:10',\n",
              "  'this is i:4 of j:10',\n",
              "  'this is i:5 of j:10',\n",
              "  'this is i:6 of j:10',\n",
              "  'this is i:7 of j:10',\n",
              "  'this is i:8 of j:10',\n",
              "  'this is i:9 of j:10',\n",
              "  'this is i:10 of j:10']]"
            ]
          },
          "metadata": {
            "tags": []
          },
          "execution_count": 24
        }
      ]
    },
    {
      "cell_type": "code",
      "metadata": {
        "id": "8pfbY8wKlnu5"
      },
      "source": [
        "def welcome_email(first_name, last_name):\n",
        "  return f\"welcome {first_name} {last_name}. Everyone please Welcome  {first_name} {last_name}\""
      ],
      "execution_count": 25,
      "outputs": []
    },
    {
      "cell_type": "code",
      "metadata": {
        "id": "HW_P6ncnmCK-",
        "outputId": "14537057-f493-4460-a74d-b4004d891148",
        "colab": {
          "base_uri": "https://localhost:8080/",
          "height": 34
        }
      },
      "source": [
        "welcome_email(\"Rakibul\", \"Islam\")"
      ],
      "execution_count": 27,
      "outputs": [
        {
          "output_type": "execute_result",
          "data": {
            "application/vnd.google.colaboratory.intrinsic+json": {
              "type": "string"
            },
            "text/plain": [
              "'welcome Rakibul Islam. Everyone please Welcome  Rakibul Islam'"
            ]
          },
          "metadata": {
            "tags": []
          },
          "execution_count": 27
        }
      ]
    }
  ]
}