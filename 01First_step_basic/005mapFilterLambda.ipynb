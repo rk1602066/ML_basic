{
  "nbformat": 4,
  "nbformat_minor": 0,
  "metadata": {
    "colab": {
      "name": "Untitled6.ipynb",
      "provenance": [],
      "collapsed_sections": []
    },
    "kernelspec": {
      "name": "python3",
      "display_name": "Python 3"
    }
  },
  "cells": [
    {
      "cell_type": "code",
      "metadata": {
        "id": "1qpFUsnBOmre"
      },
      "source": [
        ""
      ],
      "execution_count": null,
      "outputs": []
    },
    {
      "cell_type": "markdown",
      "metadata": {
        "id": "nJGJrmJ9PBfP"
      },
      "source": [
        "#functions"
      ]
    },
    {
      "cell_type": "markdown",
      "metadata": {
        "id": "MZC5X2PYPPRW"
      },
      "source": [
        "# Map function"
      ]
    },
    {
      "cell_type": "code",
      "metadata": {
        "id": "HckBIFXHPRpr"
      },
      "source": [
        "def even_or_odd(num):\n",
        "  if num%2==0:\n",
        "    return f'The (num) is Even'\n",
        "  else:\n",
        "    return f'The (num) is odd'  "
      ],
      "execution_count": 12,
      "outputs": []
    },
    {
      "cell_type": "markdown",
      "metadata": {
        "id": "xTxi62lId7lx"
      },
      "source": [
        ""
      ]
    },
    {
      "cell_type": "code",
      "metadata": {
        "id": "FPvqTpCKc0Iy"
      },
      "source": [
        "lst = [1,2,3,4,5,6,7,8,9,10,11,12,13,14,15,16,17,18,19,20,232,35,56,75,34,7575,898]"
      ],
      "execution_count": 13,
      "outputs": []
    },
    {
      "cell_type": "markdown",
      "metadata": {
        "id": "18eM_TKodIHu"
      },
      "source": [
        "map(function_name without parenthesis,iterable such as list)"
      ]
    },
    {
      "cell_type": "code",
      "metadata": {
        "id": "HHsSbhywc-go",
        "outputId": "d83363bb-e7e4-4114-cc27-8543645f20da",
        "colab": {
          "base_uri": "https://localhost:8080/"
        }
      },
      "source": [
        "x = map(even_or_odd,lst)\n",
        "x"
      ],
      "execution_count": 14,
      "outputs": [
        {
          "output_type": "execute_result",
          "data": {
            "text/plain": [
              "<map at 0x7fc3a23b5a58>"
            ]
          },
          "metadata": {
            "tags": []
          },
          "execution_count": 14
        }
      ]
    },
    {
      "cell_type": "code",
      "metadata": {
        "id": "0j8YbH52dWaA",
        "outputId": "28616a9c-2bc2-4187-ff20-ebf65af67b8f",
        "colab": {
          "base_uri": "https://localhost:8080/"
        }
      },
      "source": [
        "list(x)"
      ],
      "execution_count": 15,
      "outputs": [
        {
          "output_type": "execute_result",
          "data": {
            "text/plain": [
              "['The (num) is odd',\n",
              " 'The (num) is Even',\n",
              " 'The (num) is odd',\n",
              " 'The (num) is Even',\n",
              " 'The (num) is odd',\n",
              " 'The (num) is Even',\n",
              " 'The (num) is odd',\n",
              " 'The (num) is Even',\n",
              " 'The (num) is odd',\n",
              " 'The (num) is Even',\n",
              " 'The (num) is odd',\n",
              " 'The (num) is Even',\n",
              " 'The (num) is odd',\n",
              " 'The (num) is Even',\n",
              " 'The (num) is odd',\n",
              " 'The (num) is Even',\n",
              " 'The (num) is odd',\n",
              " 'The (num) is Even',\n",
              " 'The (num) is odd',\n",
              " 'The (num) is Even',\n",
              " 'The (num) is Even',\n",
              " 'The (num) is odd',\n",
              " 'The (num) is Even',\n",
              " 'The (num) is odd',\n",
              " 'The (num) is Even',\n",
              " 'The (num) is odd',\n",
              " 'The (num) is Even']"
            ]
          },
          "metadata": {
            "tags": []
          },
          "execution_count": 15
        }
      ]
    },
    {
      "cell_type": "markdown",
      "metadata": {
        "id": "Hrkcu0t4d-Wm"
      },
      "source": [
        "#filter function"
      ]
    },
    {
      "cell_type": "code",
      "metadata": {
        "id": "hmEEAOQAeBL9"
      },
      "source": [
        "def even(num):\n",
        "  if num%2==0:\n",
        "    return True"
      ],
      "execution_count": 25,
      "outputs": []
    },
    {
      "cell_type": "code",
      "metadata": {
        "id": "owFSkut8eZPA"
      },
      "source": [
        "lst = [1,2,3,4,5,6,7,8,9,10,11,12,13,14,15,16,17,18,19,20,232,35,56,75,34,7575,898]"
      ],
      "execution_count": 23,
      "outputs": []
    },
    {
      "cell_type": "markdown",
      "metadata": {
        "id": "-FJmU86xeiUg"
      },
      "source": [
        "filter(function_name without parenthesis,iterable such as list)\n",
        "It return the value that is true for the function"
      ]
    },
    {
      "cell_type": "code",
      "metadata": {
        "id": "xuGd-I3yedrl",
        "outputId": "8da8a68f-f611-4739-d7ce-4189f5b251d2",
        "colab": {
          "base_uri": "https://localhost:8080/"
        }
      },
      "source": [
        "x = filter(even,lst)\n",
        "x"
      ],
      "execution_count": 26,
      "outputs": [
        {
          "output_type": "execute_result",
          "data": {
            "text/plain": [
              "<filter at 0x7fc3a22faa90>"
            ]
          },
          "metadata": {
            "tags": []
          },
          "execution_count": 26
        }
      ]
    },
    {
      "cell_type": "code",
      "metadata": {
        "id": "GJHaUoV9exx4",
        "outputId": "c8afdbb0-7974-4a27-d3f4-fe7af2d666a6",
        "colab": {
          "base_uri": "https://localhost:8080/"
        }
      },
      "source": [
        "list(x)"
      ],
      "execution_count": 27,
      "outputs": [
        {
          "output_type": "execute_result",
          "data": {
            "text/plain": [
              "[2, 4, 6, 8, 10, 12, 14, 16, 18, 20, 232, 56, 34, 898]"
            ]
          },
          "metadata": {
            "tags": []
          },
          "execution_count": 27
        }
      ]
    },
    {
      "cell_type": "markdown",
      "metadata": {
        "id": "vvXms_xge6d-"
      },
      "source": [
        "Filter function using lamda function as a peremitre"
      ]
    },
    {
      "cell_type": "code",
      "metadata": {
        "id": "eQxRxpqqe_EV"
      },
      "source": [
        "x = filter(lambda num:num%2==0,lst )"
      ],
      "execution_count": 28,
      "outputs": []
    },
    {
      "cell_type": "code",
      "metadata": {
        "id": "2jSC9799f_C4",
        "outputId": "40c3a2c5-f23f-4e01-d237-04c81408e651",
        "colab": {
          "base_uri": "https://localhost:8080/"
        }
      },
      "source": [
        "list(x)"
      ],
      "execution_count": 29,
      "outputs": [
        {
          "output_type": "execute_result",
          "data": {
            "text/plain": [
              "[2, 4, 6, 8, 10, 12, 14, 16, 18, 20, 232, 56, 34, 898]"
            ]
          },
          "metadata": {
            "tags": []
          },
          "execution_count": 29
        }
      ]
    },
    {
      "cell_type": "code",
      "metadata": {
        "id": "ax_QoM08gSeX",
        "outputId": "aba162b3-2f87-44fe-fa89-06fad82ae0ee",
        "colab": {
          "base_uri": "https://localhost:8080/"
        }
      },
      "source": [
        "list(map(lambda num:num%2==0,lst ))"
      ],
      "execution_count": 31,
      "outputs": [
        {
          "output_type": "execute_result",
          "data": {
            "text/plain": [
              "[False,\n",
              " True,\n",
              " False,\n",
              " True,\n",
              " False,\n",
              " True,\n",
              " False,\n",
              " True,\n",
              " False,\n",
              " True,\n",
              " False,\n",
              " True,\n",
              " False,\n",
              " True,\n",
              " False,\n",
              " True,\n",
              " False,\n",
              " True,\n",
              " False,\n",
              " True,\n",
              " True,\n",
              " False,\n",
              " True,\n",
              " False,\n",
              " True,\n",
              " False,\n",
              " True]"
            ]
          },
          "metadata": {
            "tags": []
          },
          "execution_count": 31
        }
      ]
    },
    {
      "cell_type": "markdown",
      "metadata": {
        "id": "KbB5iKh9ggkc"
      },
      "source": [
        "#Lambda function"
      ]
    },
    {
      "cell_type": "code",
      "metadata": {
        "id": "l2Fo0T8lgkkH"
      },
      "source": [
        "add  =  lambda a,b:a+b"
      ],
      "execution_count": 33,
      "outputs": []
    },
    {
      "cell_type": "code",
      "metadata": {
        "id": "3rNDSXFjgvOE",
        "outputId": "97b4590e-9621-4f4d-dfff-8a1a40b4b6cd",
        "colab": {
          "base_uri": "https://localhost:8080/"
        }
      },
      "source": [
        "add(12,15)"
      ],
      "execution_count": 34,
      "outputs": [
        {
          "output_type": "execute_result",
          "data": {
            "text/plain": [
              "27"
            ]
          },
          "metadata": {
            "tags": []
          },
          "execution_count": 34
        }
      ]
    },
    {
      "cell_type": "code",
      "metadata": {
        "id": "msEQNAaBg39v",
        "outputId": "36ac4878-bebc-4012-cb3b-fc3a63725110",
        "colab": {
          "base_uri": "https://localhost:8080/"
        }
      },
      "source": [
        "even = lambda x:x%2==0\n",
        "even(27)"
      ],
      "execution_count": 36,
      "outputs": [
        {
          "output_type": "execute_result",
          "data": {
            "text/plain": [
              "False"
            ]
          },
          "metadata": {
            "tags": []
          },
          "execution_count": 36
        }
      ]
    },
    {
      "cell_type": "code",
      "metadata": {
        "id": "pUHiGPzAhLO2"
      },
      "source": [
        ""
      ],
      "execution_count": null,
      "outputs": []
    }
  ]
}