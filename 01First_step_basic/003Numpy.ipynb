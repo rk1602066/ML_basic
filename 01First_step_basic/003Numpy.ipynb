{
  "nbformat": 4,
  "nbformat_minor": 0,
  "metadata": {
    "colab": {
      "name": "Untitled3.ipynb",
      "provenance": []
    },
    "kernelspec": {
      "name": "python3",
      "display_name": "Python 3"
    }
  },
  "cells": [
    {
      "cell_type": "code",
      "metadata": {
        "id": "gHYrlYyW9nat"
      },
      "source": [
        "import numpy as np"
      ],
      "execution_count": 3,
      "outputs": []
    },
    {
      "cell_type": "code",
      "metadata": {
        "id": "ypDn-zJjPm6r",
        "outputId": "cab2c771-10db-46de-ccfd-3a2542d3fad7",
        "colab": {
          "base_uri": "https://localhost:8080/"
        }
      },
      "source": [
        "mylist = [1,2,3,4,5]\n",
        "arr = np.array(mylist)\n",
        "print(type(arr))"
      ],
      "execution_count": 2,
      "outputs": [
        {
          "output_type": "stream",
          "text": [
            "<class 'numpy.ndarray'>\n"
          ],
          "name": "stdout"
        }
      ]
    },
    {
      "cell_type": "code",
      "metadata": {
        "id": "T0AzevowPyu9",
        "outputId": "eb9731ea-a690-40f6-9cba-f5a3e263f5e2",
        "colab": {
          "base_uri": "https://localhost:8080/"
        }
      },
      "source": [
        "print(arr.shape)"
      ],
      "execution_count": 3,
      "outputs": [
        {
          "output_type": "stream",
          "text": [
            "(5,)\n"
          ],
          "name": "stdout"
        }
      ]
    },
    {
      "cell_type": "markdown",
      "metadata": {
        "id": "gJDR2MEoQnPQ"
      },
      "source": [
        "MultiDarray"
      ]
    },
    {
      "cell_type": "code",
      "metadata": {
        "id": "ULKiLv2XQJd3",
        "outputId": "12697adc-833f-4bd4-c60a-c89f3e61adb7",
        "colab": {
          "base_uri": "https://localhost:8080/"
        }
      },
      "source": [
        "ls1 = [1,2,3,4,5]\n",
        "ls2=  [2,5,7,9,11]\n",
        "ls3=  [1,3,7,5,9]\n",
        "narr = np.array([ls1,ls2,ls3])\n",
        "print(narr)"
      ],
      "execution_count": 4,
      "outputs": [
        {
          "output_type": "stream",
          "text": [
            "[[ 1  2  3  4  5]\n",
            " [ 2  5  7  9 11]\n",
            " [ 1  3  7  5  9]]\n"
          ],
          "name": "stdout"
        }
      ]
    },
    {
      "cell_type": "code",
      "metadata": {
        "id": "u3qvYE7pRLtU",
        "outputId": "4dcd1722-2c07-42d2-b9f7-b26ce6ed93d1",
        "colab": {
          "base_uri": "https://localhost:8080/"
        }
      },
      "source": [
        "print(narr.shape)"
      ],
      "execution_count": 6,
      "outputs": [
        {
          "output_type": "stream",
          "text": [
            "(3, 5)\n"
          ],
          "name": "stdout"
        }
      ]
    },
    {
      "cell_type": "markdown",
      "metadata": {
        "id": "KXEMRYZrRhhk"
      },
      "source": [
        "#Reshape"
      ]
    },
    {
      "cell_type": "code",
      "metadata": {
        "id": "ZoYCKMXeRQGc",
        "outputId": "eafe30e9-1dad-4c53-949c-b9361320ee4c",
        "colab": {
          "base_uri": "https://localhost:8080/"
        }
      },
      "source": [
        "newnr = narr.reshape(5,3)\n",
        "print(newnr)"
      ],
      "execution_count": 9,
      "outputs": [
        {
          "output_type": "stream",
          "text": [
            "[[ 1  2  3]\n",
            " [ 4  5  2]\n",
            " [ 5  7  9]\n",
            " [11  1  3]\n",
            " [ 7  5  9]]\n"
          ],
          "name": "stdout"
        }
      ]
    },
    {
      "cell_type": "code",
      "metadata": {
        "id": "DzA20fx9R3d3",
        "outputId": "56547f53-e753-4d07-f410-57c052efd089",
        "colab": {
          "base_uri": "https://localhost:8080/",
          "height": 182
        }
      },
      "source": [
        "newnr2 = narr.reshape(5,4)\n",
        "print(newnr2)"
      ],
      "execution_count": 10,
      "outputs": [
        {
          "output_type": "error",
          "ename": "ValueError",
          "evalue": "ignored",
          "traceback": [
            "\u001b[0;31m---------------------------------------------------------------------------\u001b[0m",
            "\u001b[0;31mValueError\u001b[0m                                Traceback (most recent call last)",
            "\u001b[0;32m<ipython-input-10-fdc122897b18>\u001b[0m in \u001b[0;36m<module>\u001b[0;34m()\u001b[0m\n\u001b[0;32m----> 1\u001b[0;31m \u001b[0mnewnr2\u001b[0m \u001b[0;34m=\u001b[0m \u001b[0mnarr\u001b[0m\u001b[0;34m.\u001b[0m\u001b[0mreshape\u001b[0m\u001b[0;34m(\u001b[0m\u001b[0;36m5\u001b[0m\u001b[0;34m,\u001b[0m\u001b[0;36m4\u001b[0m\u001b[0;34m)\u001b[0m\u001b[0;34m\u001b[0m\u001b[0;34m\u001b[0m\u001b[0m\n\u001b[0m\u001b[1;32m      2\u001b[0m \u001b[0mprint\u001b[0m\u001b[0;34m(\u001b[0m\u001b[0mnewnr2\u001b[0m\u001b[0;34m)\u001b[0m\u001b[0;34m\u001b[0m\u001b[0;34m\u001b[0m\u001b[0m\n",
            "\u001b[0;31mValueError\u001b[0m: cannot reshape array of size 15 into shape (5,4)"
          ]
        }
      ]
    },
    {
      "cell_type": "code",
      "metadata": {
        "id": "jTgMq-jXVaK4",
        "outputId": "26d77e41-db8f-4354-bd51-5017013e67f0",
        "colab": {
          "base_uri": "https://localhost:8080/"
        }
      },
      "source": [
        "newnr = narr.reshape(1,15)\n",
        "print(newnr)"
      ],
      "execution_count": 11,
      "outputs": [
        {
          "output_type": "stream",
          "text": [
            "[[ 1  2  3  4  5  2  5  7  9 11  1  3  7  5  9]]\n"
          ],
          "name": "stdout"
        }
      ]
    },
    {
      "cell_type": "markdown",
      "metadata": {
        "id": "OesUx88WVhjx"
      },
      "source": [
        "#Indexing"
      ]
    },
    {
      "cell_type": "code",
      "metadata": {
        "id": "V2W12UJPVefu",
        "outputId": "555f85ac-cfa7-46c8-8708-87d0a89c7aa8",
        "colab": {
          "base_uri": "https://localhost:8080/"
        }
      },
      "source": [
        "arr = np.array([1,2,3,4,5,6,7,8])\n",
        "print(arr[4])"
      ],
      "execution_count": 12,
      "outputs": [
        {
          "output_type": "stream",
          "text": [
            "5\n"
          ],
          "name": "stdout"
        }
      ]
    },
    {
      "cell_type": "code",
      "metadata": {
        "id": "x7lwvcHLVuar",
        "outputId": "51b3cffe-a6ce-4767-f42c-db8b5a964c60",
        "colab": {
          "base_uri": "https://localhost:8080/"
        }
      },
      "source": [
        "print(narr[2][1])"
      ],
      "execution_count": 16,
      "outputs": [
        {
          "output_type": "stream",
          "text": [
            "3\n"
          ],
          "name": "stdout"
        }
      ]
    },
    {
      "cell_type": "markdown",
      "metadata": {
        "id": "GyUPLVEAjILI"
      },
      "source": [
        "#Access Element"
      ]
    },
    {
      "cell_type": "code",
      "metadata": {
        "id": "MKX6epo_jKvT",
        "outputId": "83dabaa5-4af1-498b-d09e-20b5a8a4a2fc",
        "colab": {
          "base_uri": "https://localhost:8080/"
        }
      },
      "source": [
        "narr[0:2,:]"
      ],
      "execution_count": 8,
      "outputs": [
        {
          "output_type": "execute_result",
          "data": {
            "text/plain": [
              "array([[ 1,  2,  3,  4,  5],\n",
              "       [ 2,  5,  7,  9, 11]])"
            ]
          },
          "metadata": {
            "tags": []
          },
          "execution_count": 8
        }
      ]
    },
    {
      "cell_type": "code",
      "metadata": {
        "id": "J_94tNHUkBQG",
        "outputId": "9d02c862-15d5-401e-99d2-0ed0b94ba16a",
        "colab": {
          "base_uri": "https://localhost:8080/"
        }
      },
      "source": [
        "narr[0:2,0:2]"
      ],
      "execution_count": 10,
      "outputs": [
        {
          "output_type": "execute_result",
          "data": {
            "text/plain": [
              "array([[1, 2],\n",
              "       [2, 5]])"
            ]
          },
          "metadata": {
            "tags": []
          },
          "execution_count": 10
        }
      ]
    },
    {
      "cell_type": "code",
      "metadata": {
        "id": "HzXruA2bkJ_z",
        "outputId": "17fd8e33-505f-4cb3-a9bf-0feb6df9b6a7",
        "colab": {
          "base_uri": "https://localhost:8080/"
        }
      },
      "source": [
        "narr[:,3:]"
      ],
      "execution_count": 11,
      "outputs": [
        {
          "output_type": "execute_result",
          "data": {
            "text/plain": [
              "array([[ 4,  5],\n",
              "       [ 9, 11],\n",
              "       [ 5,  9]])"
            ]
          },
          "metadata": {
            "tags": []
          },
          "execution_count": 11
        }
      ]
    },
    {
      "cell_type": "code",
      "metadata": {
        "id": "gXsQN8WJkXsY",
        "outputId": "e8426b04-b6ed-4b2f-b9e5-cdcc0d57d645",
        "colab": {
          "base_uri": "https://localhost:8080/"
        }
      },
      "source": [
        "narr[1:,2:4]"
      ],
      "execution_count": 12,
      "outputs": [
        {
          "output_type": "execute_result",
          "data": {
            "text/plain": [
              "array([[7, 9],\n",
              "       [7, 5]])"
            ]
          },
          "metadata": {
            "tags": []
          },
          "execution_count": 12
        }
      ]
    },
    {
      "cell_type": "code",
      "metadata": {
        "id": "GRqKJmTZknO7",
        "outputId": "4af5b4a2-0286-49d4-8200-8701a99d6a02",
        "colab": {
          "base_uri": "https://localhost:8080/"
        }
      },
      "source": [
        "#arrange function\n",
        "\n",
        "arr = np.arange(0,10)\n",
        "arr"
      ],
      "execution_count": 15,
      "outputs": [
        {
          "output_type": "execute_result",
          "data": {
            "text/plain": [
              "array([0, 1, 2, 3, 4, 5, 6, 7, 8, 9])"
            ]
          },
          "metadata": {
            "tags": []
          },
          "execution_count": 15
        }
      ]
    },
    {
      "cell_type": "code",
      "metadata": {
        "id": "g5D-9RRylIHS",
        "outputId": "9b109408-e4e2-411a-c121-21d5d35e8754",
        "colab": {
          "base_uri": "https://localhost:8080/"
        }
      },
      "source": [
        "arr = np.arange(0,10,step=2)\n",
        "arr"
      ],
      "execution_count": 16,
      "outputs": [
        {
          "output_type": "execute_result",
          "data": {
            "text/plain": [
              "array([0, 2, 4, 6, 8])"
            ]
          },
          "metadata": {
            "tags": []
          },
          "execution_count": 16
        }
      ]
    },
    {
      "cell_type": "code",
      "metadata": {
        "id": "6igKAUrUlNFy",
        "outputId": "ab783a26-e688-460e-ec58-061a353e0235",
        "colab": {
          "base_uri": "https://localhost:8080/"
        }
      },
      "source": [
        "arr = np.arange(0,30,step=4)\n",
        "arr"
      ],
      "execution_count": 20,
      "outputs": [
        {
          "output_type": "execute_result",
          "data": {
            "text/plain": [
              "array([ 0,  4,  8, 12, 16, 20, 24, 28])"
            ]
          },
          "metadata": {
            "tags": []
          },
          "execution_count": 20
        }
      ]
    },
    {
      "cell_type": "markdown",
      "metadata": {
        "id": "ihGRk3nclzmT"
      },
      "source": [
        "#linespace"
      ]
    },
    {
      "cell_type": "code",
      "metadata": {
        "id": "4iouTGyfl1fR",
        "outputId": "120c7fe3-9066-4042-c5b7-fe0cba500e34",
        "colab": {
          "base_uri": "https://localhost:8080/"
        }
      },
      "source": [
        "np.linspace(1,20,40)"
      ],
      "execution_count": 18,
      "outputs": [
        {
          "output_type": "execute_result",
          "data": {
            "text/plain": [
              "array([ 1.        ,  1.48717949,  1.97435897,  2.46153846,  2.94871795,\n",
              "        3.43589744,  3.92307692,  4.41025641,  4.8974359 ,  5.38461538,\n",
              "        5.87179487,  6.35897436,  6.84615385,  7.33333333,  7.82051282,\n",
              "        8.30769231,  8.79487179,  9.28205128,  9.76923077, 10.25641026,\n",
              "       10.74358974, 11.23076923, 11.71794872, 12.20512821, 12.69230769,\n",
              "       13.17948718, 13.66666667, 14.15384615, 14.64102564, 15.12820513,\n",
              "       15.61538462, 16.1025641 , 16.58974359, 17.07692308, 17.56410256,\n",
              "       18.05128205, 18.53846154, 19.02564103, 19.51282051, 20.        ])"
            ]
          },
          "metadata": {
            "tags": []
          },
          "execution_count": 18
        }
      ]
    },
    {
      "cell_type": "code",
      "metadata": {
        "id": "kUdPavp3mDhf",
        "outputId": "fbe2680e-e0ec-4d79-c723-52484ad98b81",
        "colab": {
          "base_uri": "https://localhost:8080/"
        }
      },
      "source": [
        "#\n",
        "arr[3:]=45\n",
        "arr"
      ],
      "execution_count": 21,
      "outputs": [
        {
          "output_type": "execute_result",
          "data": {
            "text/plain": [
              "array([ 0,  4,  8, 45, 45, 45, 45, 45])"
            ]
          },
          "metadata": {
            "tags": []
          },
          "execution_count": 21
        }
      ]
    },
    {
      "cell_type": "code",
      "metadata": {
        "id": "-qXyVcURmW0j",
        "outputId": "985b49c9-6934-4589-d61e-85fdcf96655f",
        "colab": {
          "base_uri": "https://localhost:8080/"
        }
      },
      "source": [
        "arr0=np.array([0 for i in range(100)])\n",
        "arr0[5:30]=-1\n",
        "arr0"
      ],
      "execution_count": 28,
      "outputs": [
        {
          "output_type": "execute_result",
          "data": {
            "text/plain": [
              "array([ 0,  0,  0,  0,  0, -1, -1, -1, -1, -1, -1, -1, -1, -1, -1, -1, -1,\n",
              "       -1, -1, -1, -1, -1, -1, -1, -1, -1, -1, -1, -1, -1,  0,  0,  0,  0,\n",
              "        0,  0,  0,  0,  0,  0,  0,  0,  0,  0,  0,  0,  0,  0,  0,  0,  0,\n",
              "        0,  0,  0,  0,  0,  0,  0,  0,  0,  0,  0,  0,  0,  0,  0,  0,  0,\n",
              "        0,  0,  0,  0,  0,  0,  0,  0,  0,  0,  0,  0,  0,  0,  0,  0,  0,\n",
              "        0,  0,  0,  0,  0,  0,  0,  0,  0,  0,  0,  0,  0,  0,  0])"
            ]
          },
          "metadata": {
            "tags": []
          },
          "execution_count": 28
        }
      ]
    },
    {
      "cell_type": "code",
      "metadata": {
        "id": "RsjAteMlnNGd"
      },
      "source": [
        ""
      ],
      "execution_count": null,
      "outputs": []
    },
    {
      "cell_type": "markdown",
      "metadata": {
        "id": "8aDPHP1Pnsak"
      },
      "source": [
        "#copy"
      ]
    },
    {
      "cell_type": "markdown",
      "metadata": {
        "id": "5R-4jkT0nuVD"
      },
      "source": [
        "Array is generally reference type. so changes in copied array will change in the main one"
      ]
    },
    {
      "cell_type": "code",
      "metadata": {
        "id": "JwKTPKWNnttq",
        "outputId": "edb33d35-ca5f-4863-843c-8387957d03dd",
        "colab": {
          "base_uri": "https://localhost:8080/"
        }
      },
      "source": [
        "arr=np.array([1,2,3,4,5,6,7])\n",
        "ar2=arr\n",
        "print(arr)\n",
        "print(ar2)\n"
      ],
      "execution_count": 32,
      "outputs": [
        {
          "output_type": "stream",
          "text": [
            "[1 2 3 4 5 6 7]\n",
            "[1 2 3 4 5 6 7]\n"
          ],
          "name": "stdout"
        }
      ]
    },
    {
      "cell_type": "code",
      "metadata": {
        "id": "A05T8MBSoVL3",
        "outputId": "3848594a-98e7-4bd5-beab-d68017fad3bd",
        "colab": {
          "base_uri": "https://localhost:8080/"
        }
      },
      "source": [
        "ar2[2:]=-1\n",
        "print(arr)\n",
        "print(ar2)"
      ],
      "execution_count": 33,
      "outputs": [
        {
          "output_type": "stream",
          "text": [
            "[ 1  2 -1 -1 -1 -1 -1]\n",
            "[ 1  2 -1 -1 -1 -1 -1]\n"
          ],
          "name": "stdout"
        }
      ]
    },
    {
      "cell_type": "markdown",
      "metadata": {
        "id": "nRFlhol1o-jS"
      },
      "source": [
        "#prevent to occurs change in the main array"
      ]
    },
    {
      "cell_type": "code",
      "metadata": {
        "id": "QJdtnG8fpEXs",
        "outputId": "4715493b-3427-439f-9100-ff2422159100",
        "colab": {
          "base_uri": "https://localhost:8080/"
        }
      },
      "source": [
        "arr=np.array([2,4,5,6,87,8,6,1,1])\n",
        "ar2=arr.copy()\n",
        "ar2[2:]=-1\n",
        "print(arr)\n",
        "print(ar2)"
      ],
      "execution_count": 35,
      "outputs": [
        {
          "output_type": "stream",
          "text": [
            "[ 2  4  5  6 87  8  6  1  1]\n",
            "[ 2  4 -1 -1 -1 -1 -1 -1 -1]\n"
          ],
          "name": "stdout"
        }
      ]
    },
    {
      "cell_type": "markdown",
      "metadata": {
        "id": "JQQYfgXhrII6"
      },
      "source": [
        "#logical in array"
      ]
    },
    {
      "cell_type": "code",
      "metadata": {
        "id": "z2aTdFiWrLQc",
        "outputId": "2050b266-26f8-481b-e992-8b00b40c6cc3",
        "colab": {
          "base_uri": "https://localhost:8080/"
        }
      },
      "source": [
        "var1=2\n",
        "print(arr)\n",
        "print(arr>var1)"
      ],
      "execution_count": 36,
      "outputs": [
        {
          "output_type": "stream",
          "text": [
            "[ 2  4  5  6 87  8  6  1  1]\n",
            "[False  True  True  True  True  True  True False False]\n"
          ],
          "name": "stdout"
        }
      ]
    },
    {
      "cell_type": "code",
      "metadata": {
        "id": "USPO1dqWrXvB",
        "outputId": "dba9ebd3-a65b-461e-d1b3-e253cfefd0f9",
        "colab": {
          "base_uri": "https://localhost:8080/"
        }
      },
      "source": [
        "var1=2\n",
        "print(arr)\n",
        "print(arr%var1)"
      ],
      "execution_count": 37,
      "outputs": [
        {
          "output_type": "stream",
          "text": [
            "[ 2  4  5  6 87  8  6  1  1]\n",
            "[0 0 1 0 1 0 0 1 1]\n"
          ],
          "name": "stdout"
        }
      ]
    },
    {
      "cell_type": "code",
      "metadata": {
        "id": "ccRegdqQrcok",
        "outputId": "ec550a6b-18ff-4832-81b4-cfd72ebdd141",
        "colab": {
          "base_uri": "https://localhost:8080/"
        }
      },
      "source": [
        "var1=2\n",
        "print(arr)\n",
        "print(arr*var1)"
      ],
      "execution_count": 38,
      "outputs": [
        {
          "output_type": "stream",
          "text": [
            "[ 2  4  5  6 87  8  6  1  1]\n",
            "[  4   8  10  12 174  16  12   2   2]\n"
          ],
          "name": "stdout"
        }
      ]
    },
    {
      "cell_type": "code",
      "metadata": {
        "id": "PiclLLEargFt",
        "outputId": "c573e1ea-0481-4bb7-9498-2b977a066a74",
        "colab": {
          "base_uri": "https://localhost:8080/"
        }
      },
      "source": [
        "var1=2\n",
        "print(arr)\n",
        "print(arr/var1)"
      ],
      "execution_count": 42,
      "outputs": [
        {
          "output_type": "stream",
          "text": [
            "[ 2  4  5  6 87  8  6  1  1]\n",
            "[ 1.   2.   2.5  3.  43.5  4.   3.   0.5  0.5]\n"
          ],
          "name": "stdout"
        }
      ]
    },
    {
      "cell_type": "code",
      "metadata": {
        "id": "lwp-1K0vrwIl",
        "outputId": "93c1b0ac-fa67-4d01-c2a2-74ff546ddce0",
        "colab": {
          "base_uri": "https://localhost:8080/"
        }
      },
      "source": [
        "arr[arr>=2]"
      ],
      "execution_count": 43,
      "outputs": [
        {
          "output_type": "execute_result",
          "data": {
            "text/plain": [
              "array([ 2,  4,  5,  6, 87,  8,  6])"
            ]
          },
          "metadata": {
            "tags": []
          },
          "execution_count": 43
        }
      ]
    },
    {
      "cell_type": "code",
      "metadata": {
        "id": "xITrodQNr2uM",
        "outputId": "00c378be-8e28-4256-9318-847df3c1e595",
        "colab": {
          "base_uri": "https://localhost:8080/"
        }
      },
      "source": [
        "arr"
      ],
      "execution_count": 44,
      "outputs": [
        {
          "output_type": "execute_result",
          "data": {
            "text/plain": [
              "array([ 2,  4,  5,  6, 87,  8,  6,  1,  1])"
            ]
          },
          "metadata": {
            "tags": []
          },
          "execution_count": 44
        }
      ]
    },
    {
      "cell_type": "markdown",
      "metadata": {
        "id": "6Hjjhn4NsAWG"
      },
      "source": [
        "#Reshape"
      ]
    },
    {
      "cell_type": "code",
      "metadata": {
        "id": "pT5iBFbPsCTQ",
        "outputId": "883c6bde-7b3a-4ff5-cf3c-f2c134e73df8",
        "colab": {
          "base_uri": "https://localhost:8080/"
        }
      },
      "source": [
        "np.arange(0,10).reshape(5,2)"
      ],
      "execution_count": 46,
      "outputs": [
        {
          "output_type": "execute_result",
          "data": {
            "text/plain": [
              "array([[0, 1],\n",
              "       [2, 3],\n",
              "       [4, 5],\n",
              "       [6, 7],\n",
              "       [8, 9]])"
            ]
          },
          "metadata": {
            "tags": []
          },
          "execution_count": 46
        }
      ]
    },
    {
      "cell_type": "code",
      "metadata": {
        "id": "-DT2R3KosKv0",
        "outputId": "8e5e41ed-5ea0-4672-f0b1-8e013993a841",
        "colab": {
          "base_uri": "https://localhost:8080/"
        }
      },
      "source": [
        "np.ones(10,dtype=int)"
      ],
      "execution_count": 48,
      "outputs": [
        {
          "output_type": "execute_result",
          "data": {
            "text/plain": [
              "array([1, 1, 1, 1, 1, 1, 1, 1, 1, 1])"
            ]
          },
          "metadata": {
            "tags": []
          },
          "execution_count": 48
        }
      ]
    },
    {
      "cell_type": "code",
      "metadata": {
        "id": "xSREPiu1sXWZ",
        "outputId": "dd5c004a-2cbf-4432-d36f-e6ea5c8ef843",
        "colab": {
          "base_uri": "https://localhost:8080/"
        }
      },
      "source": [
        "np.ones((5,4),dtype=int)"
      ],
      "execution_count": 54,
      "outputs": [
        {
          "output_type": "execute_result",
          "data": {
            "text/plain": [
              "array([[1, 1, 1, 1],\n",
              "       [1, 1, 1, 1],\n",
              "       [1, 1, 1, 1],\n",
              "       [1, 1, 1, 1],\n",
              "       [1, 1, 1, 1]])"
            ]
          },
          "metadata": {
            "tags": []
          },
          "execution_count": 54
        }
      ]
    },
    {
      "cell_type": "markdown",
      "metadata": {
        "id": "cCuHzwWGsv2Z"
      },
      "source": [
        "#Random"
      ]
    },
    {
      "cell_type": "code",
      "metadata": {
        "id": "pEbXUDJesxbP",
        "outputId": "49627c07-f2f3-4057-e9ab-49d798d9222a",
        "colab": {
          "base_uri": "https://localhost:8080/"
        }
      },
      "source": [
        "np.random.rand(10)"
      ],
      "execution_count": 55,
      "outputs": [
        {
          "output_type": "execute_result",
          "data": {
            "text/plain": [
              "array([0.36935432, 0.92632084, 0.70263696, 0.91142515, 0.69440645,\n",
              "       0.82307515, 0.63710376, 0.72185182, 0.27680026, 0.41581746])"
            ]
          },
          "metadata": {
            "tags": []
          },
          "execution_count": 55
        }
      ]
    },
    {
      "cell_type": "code",
      "metadata": {
        "id": "NANHpdVns5nO",
        "outputId": "5ba56eb6-563f-4dbf-a187-eff3e2c69d66",
        "colab": {
          "base_uri": "https://localhost:8080/"
        }
      },
      "source": [
        "np.random.rand(5,5)"
      ],
      "execution_count": 58,
      "outputs": [
        {
          "output_type": "execute_result",
          "data": {
            "text/plain": [
              "array([[0.09660796, 0.71001338, 0.57657852, 0.8420464 , 0.18910207],\n",
              "       [0.87331772, 0.40871365, 0.35838368, 0.71860243, 0.50040727],\n",
              "       [0.66841299, 0.88084542, 0.50285219, 0.13962727, 0.93856626],\n",
              "       [0.3799277 , 0.91100791, 0.01418083, 0.25689009, 0.89731207],\n",
              "       [0.05572047, 0.96905889, 0.29565388, 0.08774647, 0.05825551]])"
            ]
          },
          "metadata": {
            "tags": []
          },
          "execution_count": 58
        }
      ]
    },
    {
      "cell_type": "code",
      "metadata": {
        "id": "PLurFhMruUa7",
        "outputId": "99c15607-f215-4413-9c99-33b7bd743b3e",
        "colab": {
          "base_uri": "https://localhost:8080/"
        }
      },
      "source": [
        "arr_x = np.random.randn(4,4)\n",
        "print(arr_x)"
      ],
      "execution_count": 63,
      "outputs": [
        {
          "output_type": "stream",
          "text": [
            "[[ 0.06563087  0.37010871 -1.00862259 -0.85552238]\n",
            " [ 0.17063821 -1.19860555 -1.0483192   1.34115033]\n",
            " [-0.9100099   0.79033041  1.80833336 -1.50075685]\n",
            " [-0.19429497  0.61531802  0.09860954 -0.49508585]]\n"
          ],
          "name": "stdout"
        }
      ]
    },
    {
      "cell_type": "code",
      "metadata": {
        "id": "IVkjC1zhs9Y2",
        "outputId": "d2ab8d87-59c7-4a18-a0aa-60f5a25727de",
        "colab": {
          "base_uri": "https://localhost:8080/",
          "height": 386
        }
      },
      "source": [
        "import seaborn as sns\n",
        "import pandas as pd\n",
        "sns.displot(pd.DataFrame(arr_x.reshape(16,1)))"
      ],
      "execution_count": 68,
      "outputs": [
        {
          "output_type": "execute_result",
          "data": {
            "text/plain": [
              "<seaborn.axisgrid.FacetGrid at 0x7fa33aa6a0f0>"
            ]
          },
          "metadata": {
            "tags": []
          },
          "execution_count": 68
        },
        {
          "output_type": "display_data",
          "data": {
            "image/png": "[encoded data removed]",
            "text/plain": [
              "<Figure size 402.25x360 with 1 Axes>"
            ]
          },
          "metadata": {
            "tags": [],
            "needs_background": "light"
          }
        }
      ]
    },
    {
      "cell_type": "code",
      "metadata": {
        "id": "9uviseTmvoKE",
        "outputId": "60b6cd0f-68e7-4e2e-be81-7542aeff64c1",
        "colab": {
          "base_uri": "https://localhost:8080/"
        }
      },
      "source": [
        "np.random.randint(500,1000,8).reshape(4,2)"
      ],
      "execution_count": 73,
      "outputs": [
        {
          "output_type": "execute_result",
          "data": {
            "text/plain": [
              "array([[884, 577],\n",
              "       [556, 760],\n",
              "       [736, 836],\n",
              "       [756, 918]])"
            ]
          },
          "metadata": {
            "tags": []
          },
          "execution_count": 73
        }
      ]
    },
    {
      "cell_type": "code",
      "metadata": {
        "id": "7X9vCoemwE1I",
        "outputId": "3e8b4c8f-0720-49fd-d86e-833ca0f77bfc",
        "colab": {
          "base_uri": "https://localhost:8080/"
        }
      },
      "source": [
        "#Provide random number between 0.0 to 1.0\n",
        "np.random.random_sample((1,5))"
      ],
      "execution_count": 75,
      "outputs": [
        {
          "output_type": "execute_result",
          "data": {
            "text/plain": [
              "array([[0.99796381, 0.46604625, 0.19352834, 0.72406551, 0.07236254]])"
            ]
          },
          "metadata": {
            "tags": []
          },
          "execution_count": 75
        }
      ]
    }
  ]
}