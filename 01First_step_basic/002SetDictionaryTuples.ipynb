{
  "nbformat": 4,
  "nbformat_minor": 0,
  "metadata": {
    "colab": {
      "name": "Untitled2.ipynb",
      "provenance": []
    },
    "kernelspec": {
      "name": "python3",
      "display_name": "Python 3"
    }
  },
  "cells": [
    {
      "cell_type": "code",
      "metadata": {
        "id": "pCqqo95lTjsz"
      },
      "source": [
        ""
      ],
      "execution_count": null,
      "outputs": []
    },
    {
      "cell_type": "markdown",
      "metadata": {
        "id": "UBI4OVdNTlYb"
      },
      "source": [
        "#SETS"
      ]
    },
    {
      "cell_type": "code",
      "metadata": {
        "id": "5pCay2IETon-",
        "outputId": "89d8b60a-eda8-40e3-c33c-0da40a9bb238",
        "colab": {
          "base_uri": "https://localhost:8080/"
        }
      },
      "source": [
        "set_nm = set()\n",
        "print(set_nm)\n",
        "print(type(set_nm))"
      ],
      "execution_count": 1,
      "outputs": [
        {
          "output_type": "stream",
          "text": [
            "set()\n",
            "<class 'set'>\n"
          ],
          "name": "stdout"
        }
      ]
    },
    {
      "cell_type": "code",
      "metadata": {
        "id": "sDcssU7PT0ws",
        "outputId": "83a7d47e-9eeb-404e-84b8-6f9cb13bc424",
        "colab": {
          "base_uri": "https://localhost:8080/"
        }
      },
      "source": [
        "set_n = {1,2,2,3}\n",
        "print(type(set_n))\n",
        "print(set_n)"
      ],
      "execution_count": 4,
      "outputs": [
        {
          "output_type": "stream",
          "text": [
            "<class 'set'>\n",
            "{1, 2, 3}\n"
          ],
          "name": "stdout"
        }
      ]
    },
    {
      "cell_type": "markdown",
      "metadata": {
        "id": "7Miw2biOYDRC"
      },
      "source": [
        "#Inbuilt function in sets"
      ]
    },
    {
      "cell_type": "code",
      "metadata": {
        "id": "VeFhgzoVUK9x",
        "outputId": "34a3f5aa-4511-4b38-f12a-9fd5b6a9bf54",
        "colab": {
          "base_uri": "https://localhost:8080/"
        }
      },
      "source": [
        "set_n.add('ab')\n",
        "print(set_n)"
      ],
      "execution_count": 5,
      "outputs": [
        {
          "output_type": "stream",
          "text": [
            "{1, 2, 3, 'ab'}\n"
          ],
          "name": "stdout"
        }
      ]
    },
    {
      "cell_type": "markdown",
      "metadata": {
        "id": "cdMFzl6fs3Sg"
      },
      "source": [
        "#Indexing"
      ]
    },
    {
      "cell_type": "code",
      "metadata": {
        "id": "V0ekd8w-s0dd",
        "outputId": "af4579fc-272d-44b1-92ea-55ace2c52ff6",
        "colab": {
          "base_uri": "https://localhost:8080/",
          "height": 165
        }
      },
      "source": [
        "set_n[1]"
      ],
      "execution_count": 7,
      "outputs": [
        {
          "output_type": "error",
          "ename": "TypeError",
          "evalue": "ignored",
          "traceback": [
            "\u001b[0;31m---------------------------------------------------------------------------\u001b[0m",
            "\u001b[0;31mTypeError\u001b[0m                                 Traceback (most recent call last)",
            "\u001b[0;32m<ipython-input-7-a9988eaec316>\u001b[0m in \u001b[0;36m<module>\u001b[0;34m()\u001b[0m\n\u001b[0;32m----> 1\u001b[0;31m \u001b[0mset_n\u001b[0m\u001b[0;34m[\u001b[0m\u001b[0;36m1\u001b[0m\u001b[0;34m]\u001b[0m\u001b[0;34m\u001b[0m\u001b[0;34m\u001b[0m\u001b[0m\n\u001b[0m",
            "\u001b[0;31mTypeError\u001b[0m: 'set' object does not support indexing"
          ]
        }
      ]
    },
    {
      "cell_type": "markdown",
      "metadata": {
        "id": "gsKDHk4OtGsY"
      },
      "source": [
        "so set does not allow indexing"
      ]
    },
    {
      "cell_type": "code",
      "metadata": {
        "id": "gr3KKZ1CtRT8",
        "outputId": "9c4963c1-dd1f-4170-fe5b-637cdcf7c694",
        "colab": {
          "base_uri": "https://localhost:8080/"
        }
      },
      "source": [
        "#difference\n",
        "\n",
        "s1={'a','b','c','d'}\n",
        "\n",
        "s2={'f','e','c','d'}\n",
        "\n",
        "s2.difference(s1)"
      ],
      "execution_count": 12,
      "outputs": [
        {
          "output_type": "execute_result",
          "data": {
            "text/plain": [
              "{'e', 'f'}"
            ]
          },
          "metadata": {
            "tags": []
          },
          "execution_count": 12
        }
      ]
    },
    {
      "cell_type": "code",
      "metadata": {
        "id": "3FA2GkkotniY",
        "outputId": "daca1535-da16-432b-df58-7ac252737b3e",
        "colab": {
          "base_uri": "https://localhost:8080/"
        }
      },
      "source": [
        "#update difference\n",
        "s2.difference_update(s1)\n",
        "print(s2)"
      ],
      "execution_count": 11,
      "outputs": [
        {
          "output_type": "stream",
          "text": [
            "{'e', 'f'}\n"
          ],
          "name": "stdout"
        }
      ]
    },
    {
      "cell_type": "markdown",
      "metadata": {
        "id": "RMF2XKx_uRWj"
      },
      "source": [
        "#Intersection"
      ]
    },
    {
      "cell_type": "code",
      "metadata": {
        "id": "CkS5gDnDuT0c",
        "outputId": "10ac12e8-68f9-4754-ebef-016121af3720",
        "colab": {
          "base_uri": "https://localhost:8080/"
        }
      },
      "source": [
        "s1={'a','b','c','d'}\n",
        "\n",
        "s2={'f','e','c','d'}\n",
        "s2.intersection(s1)"
      ],
      "execution_count": 13,
      "outputs": [
        {
          "output_type": "execute_result",
          "data": {
            "text/plain": [
              "{'c', 'd'}"
            ]
          },
          "metadata": {
            "tags": []
          },
          "execution_count": 13
        }
      ]
    },
    {
      "cell_type": "markdown",
      "metadata": {
        "id": "jhFnCq2Nuh9X"
      },
      "source": [
        "#Dictionaries"
      ]
    },
    {
      "cell_type": "markdown",
      "metadata": {
        "id": "KRc70i4FusX7"
      },
      "source": [
        "dict= {}\n"
      ]
    },
    {
      "cell_type": "code",
      "metadata": {
        "id": "qr1fhFg0u09I",
        "outputId": "8fc8468a-ed60-4b86-d0b7-5940fec22a43",
        "colab": {
          "base_uri": "https://localhost:8080/"
        }
      },
      "source": [
        "dict = {}\n",
        "type(dict)"
      ],
      "execution_count": 14,
      "outputs": [
        {
          "output_type": "execute_result",
          "data": {
            "text/plain": [
              "dict"
            ]
          },
          "metadata": {
            "tags": []
          },
          "execution_count": 14
        }
      ]
    },
    {
      "cell_type": "code",
      "metadata": {
        "id": "m9Ow_t__u678",
        "outputId": "b692d67e-98d8-4567-ef53-53a92bfd8d7c",
        "colab": {
          "base_uri": "https://localhost:8080/"
        }
      },
      "source": [
        "dict={'car':'audi','car2':'bmw','car3':'toyta'}\n",
        "print(dict['car2'])"
      ],
      "execution_count": 16,
      "outputs": [
        {
          "output_type": "stream",
          "text": [
            "bmw\n"
          ],
          "name": "stdout"
        }
      ]
    },
    {
      "cell_type": "code",
      "metadata": {
        "id": "wyUhD9JavZpW",
        "outputId": "5e9a0f99-8a4c-4b57-a7ce-68cd86877e18",
        "colab": {
          "base_uri": "https://localhost:8080/"
        }
      },
      "source": [
        "for x in dict:\n",
        "  print(x)"
      ],
      "execution_count": 17,
      "outputs": [
        {
          "output_type": "stream",
          "text": [
            "car\n",
            "car2\n",
            "car3\n"
          ],
          "name": "stdout"
        }
      ]
    },
    {
      "cell_type": "code",
      "metadata": {
        "id": "_Z6WJ5Yxveek",
        "outputId": "bb82b706-e929-42c6-8bc3-d2a3407ce84c",
        "colab": {
          "base_uri": "https://localhost:8080/"
        }
      },
      "source": [
        "for x in dict:\n",
        "  print(f'{x} : {dict[x]}')"
      ],
      "execution_count": 18,
      "outputs": [
        {
          "output_type": "stream",
          "text": [
            "car : audi\n",
            "car2 : bmw\n",
            "car3 : toyta\n"
          ],
          "name": "stdout"
        }
      ]
    },
    {
      "cell_type": "code",
      "metadata": {
        "id": "gFH0IikevxL-",
        "outputId": "9920262a-bf88-46b3-c0f9-678232f1b2de",
        "colab": {
          "base_uri": "https://localhost:8080/"
        }
      },
      "source": [
        "for x in dict.values():\n",
        "  print(x)"
      ],
      "execution_count": 19,
      "outputs": [
        {
          "output_type": "stream",
          "text": [
            "audi\n",
            "bmw\n",
            "toyta\n"
          ],
          "name": "stdout"
        }
      ]
    },
    {
      "cell_type": "code",
      "metadata": {
        "id": "RnM7UVA0v2eH",
        "outputId": "a7ad16db-95f7-4c2b-91b1-9d1c9a104a18",
        "colab": {
          "base_uri": "https://localhost:8080/"
        }
      },
      "source": [
        "for x in dict.items():\n",
        "  print(x)"
      ],
      "execution_count": 20,
      "outputs": [
        {
          "output_type": "stream",
          "text": [
            "('car', 'audi')\n",
            "('car2', 'bmw')\n",
            "('car3', 'toyta')\n"
          ],
          "name": "stdout"
        }
      ]
    },
    {
      "cell_type": "markdown",
      "metadata": {
        "id": "V9gnwwrVwGFb"
      },
      "source": [
        "#replace value"
      ]
    },
    {
      "cell_type": "code",
      "metadata": {
        "id": "rXJxSoDBv_zm",
        "outputId": "e7dae0e7-bfbb-4322-e633-400f9bcf5995",
        "colab": {
          "base_uri": "https://localhost:8080/"
        }
      },
      "source": [
        "print(dict)\n",
        "\n",
        "dict['car']='honda'\n",
        "print(dict)"
      ],
      "execution_count": 22,
      "outputs": [
        {
          "output_type": "stream",
          "text": [
            "{'car': 'audi', 'car2': 'bmw', 'car3': 'toyta'}\n",
            "{'car': 'honda', 'car2': 'bmw', 'car3': 'toyta'}\n"
          ],
          "name": "stdout"
        }
      ]
    },
    {
      "cell_type": "markdown",
      "metadata": {
        "id": "CyoMTKmFx7ep"
      },
      "source": [
        "#Nested dictionary"
      ]
    },
    {
      "cell_type": "code",
      "metadata": {
        "id": "fO4Q-s9vx9oP",
        "outputId": "c64edf94-a264-4168-f044-fb68ac870145",
        "colab": {
          "base_uri": "https://localhost:8080/"
        }
      },
      "source": [
        "car1_model={'mercedes':1960}\n",
        "car2_model={'mercedes2':1965}\n",
        "car3_model={'mercedes3':1970}\n",
        "\n",
        "cars = {'car1':car1_model,'car2':car2_model,'car3':car3_model}\n",
        "\n",
        "print(cars['car1'])"
      ],
      "execution_count": 23,
      "outputs": [
        {
          "output_type": "stream",
          "text": [
            "{'mercedes': 1960}\n"
          ],
          "name": "stdout"
        }
      ]
    },
    {
      "cell_type": "code",
      "metadata": {
        "id": "icny13G006AO",
        "outputId": "7eb57342-44cf-4f5c-fe79-97915ff517fa",
        "colab": {
          "base_uri": "https://localhost:8080/"
        }
      },
      "source": [
        "print(cars['car1']['mercedes'])"
      ],
      "execution_count": 26,
      "outputs": [
        {
          "output_type": "stream",
          "text": [
            "1960\n"
          ],
          "name": "stdout"
        }
      ]
    },
    {
      "cell_type": "markdown",
      "metadata": {
        "id": "FD25tMJp11r0"
      },
      "source": [
        "#"
      ]
    },
    {
      "cell_type": "markdown",
      "metadata": {
        "id": "bqjQT8Q5128j"
      },
      "source": [
        "#Tuples"
      ]
    },
    {
      "cell_type": "code",
      "metadata": {
        "id": "n6qzDsj615rd",
        "outputId": "fe87ba1d-a2c6-4778-d00b-401a80eead4b",
        "colab": {
          "base_uri": "https://localhost:8080/"
        }
      },
      "source": [
        "mytuple=tuple()\n",
        "print(type(mytuple))"
      ],
      "execution_count": 27,
      "outputs": [
        {
          "output_type": "stream",
          "text": [
            "<class 'tuple'>\n"
          ],
          "name": "stdout"
        }
      ]
    },
    {
      "cell_type": "markdown",
      "metadata": {
        "id": "XF3kHrhv2Dep"
      },
      "source": [
        "tuple is not immutable , cannot assign new valuw"
      ]
    },
    {
      "cell_type": "code",
      "metadata": {
        "id": "VEJbi1br2jAU",
        "outputId": "656124ed-58ce-4fe0-fa24-58a5e776b6e9",
        "colab": {
          "base_uri": "https://localhost:8080/"
        }
      },
      "source": [
        "print(mytuple)"
      ],
      "execution_count": 29,
      "outputs": [
        {
          "output_type": "stream",
          "text": [
            "()\n"
          ],
          "name": "stdout"
        }
      ]
    },
    {
      "cell_type": "code",
      "metadata": {
        "id": "UQh2B9Le2DBR",
        "outputId": "a99b9d7f-9e03-4419-cdb3-9ae96e1b544c",
        "colab": {
          "base_uri": "https://localhost:8080/",
          "height": 217
        }
      },
      "source": [
        "\n",
        "mytuple[0]='abah'\n",
        "print(mytuple)"
      ],
      "execution_count": 28,
      "outputs": [
        {
          "output_type": "stream",
          "text": [
            "()\n"
          ],
          "name": "stdout"
        },
        {
          "output_type": "error",
          "ename": "TypeError",
          "evalue": "ignored",
          "traceback": [
            "\u001b[0;31m---------------------------------------------------------------------------\u001b[0m",
            "\u001b[0;31mTypeError\u001b[0m                                 Traceback (most recent call last)",
            "\u001b[0;32m<ipython-input-28-cbf5e000bc10>\u001b[0m in \u001b[0;36m<module>\u001b[0;34m()\u001b[0m\n\u001b[1;32m      1\u001b[0m \u001b[0mprint\u001b[0m\u001b[0;34m(\u001b[0m\u001b[0mmytuple\u001b[0m\u001b[0;34m)\u001b[0m\u001b[0;34m\u001b[0m\u001b[0;34m\u001b[0m\u001b[0m\n\u001b[0;32m----> 2\u001b[0;31m \u001b[0mmytuple\u001b[0m\u001b[0;34m[\u001b[0m\u001b[0;36m0\u001b[0m\u001b[0;34m]\u001b[0m\u001b[0;34m=\u001b[0m\u001b[0;34m'abah'\u001b[0m\u001b[0;34m\u001b[0m\u001b[0;34m\u001b[0m\u001b[0m\n\u001b[0m\u001b[1;32m      3\u001b[0m \u001b[0mprint\u001b[0m\u001b[0;34m(\u001b[0m\u001b[0mmytuple\u001b[0m\u001b[0;34m)\u001b[0m\u001b[0;34m\u001b[0m\u001b[0;34m\u001b[0m\u001b[0m\n",
            "\u001b[0;31mTypeError\u001b[0m: 'tuple' object does not support item assignment"
          ]
        }
      ]
    },
    {
      "cell_type": "code",
      "metadata": {
        "id": "Q9gBNFYl2gXu",
        "outputId": "2fdeb0f2-9de7-445d-d636-500bf97101a2",
        "colab": {
          "base_uri": "https://localhost:8080/"
        }
      },
      "source": [
        "mytuple = ('r','k','a','s','k')\n",
        "print(mytuple)\n",
        "print(mytuple[2])"
      ],
      "execution_count": 31,
      "outputs": [
        {
          "output_type": "stream",
          "text": [
            "('r', 'k', 'a', 's', 'k')\n",
            "a\n"
          ],
          "name": "stdout"
        }
      ]
    },
    {
      "cell_type": "markdown",
      "metadata": {
        "id": "RGj2YZO_23ap"
      },
      "source": [
        "#Inbuilt functions count, index"
      ]
    },
    {
      "cell_type": "code",
      "metadata": {
        "id": "XBbXihzs20np",
        "outputId": "5247a5ec-da91-4793-bd69-d8e5fe169bf5",
        "colab": {
          "base_uri": "https://localhost:8080/"
        }
      },
      "source": [
        "print(mytuple.count('k'))\n",
        "print(mytuple.index('k'))"
      ],
      "execution_count": 32,
      "outputs": [
        {
          "output_type": "stream",
          "text": [
            "2\n",
            "1\n"
          ],
          "name": "stdout"
        }
      ]
    }
  ]
}